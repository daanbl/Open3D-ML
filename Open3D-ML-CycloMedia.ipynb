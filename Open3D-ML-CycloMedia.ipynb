{
 "cells": [
  {
   "cell_type": "markdown",
   "id": "bulgarian-crystal",
   "metadata": {},
   "source": [
    "## Visualizing CycloMedia data in Open3D-ML\n",
    "\n",
    "Before running this Jupyter Notebook, first set the correct path for the modified Open3D-ML:\n",
    "\n",
    "    source set_open3d_ml_root.sh\n",
    "\n",
    "Also, make sure to install the [development version of Open3D-ML](http://www.open3d.org/docs/release/getting_started.html#development-version-pip), e.g.:\n",
    "\n",
    "    conda install -c open3d-admin open3d\n",
    "\n",
    "## Reading a dataset\n",
    "\n",
    "Data can be loaded from a folder containing `.laz` files. In principle, the dataloader expects three sub-folders:\n",
    "\n",
    "    |- data_folder    # main data folder, passed to dataloader\n",
    "        |- train      # training set\n",
    "        |- val        # validation set\n",
    "        |- test       # test set\n",
    "\n",
    "If the `train` folder does not exist, the dataloader assumes the training set to be located in the main `data_folder`. If either of the `val` or `test` folder does not exist, the dataloader assumes there are no validation set or test set, respectively."
   ]
  },
  {
   "cell_type": "code",
   "execution_count": 1,
   "id": "immediate-nirvana",
   "metadata": {},
   "outputs": [],
   "source": [
    "data_folder = '../NL-AMSD-200605_part_00_00'\n",
    "#data_dir = '../NL-AMSD-200604_part_00_00'"
   ]
  },
  {
   "cell_type": "code",
   "execution_count": 3,
   "id": "planned-biotechnology",
   "metadata": {},
   "outputs": [
    {
     "name": "stderr",
     "output_type": "stream",
     "text": [
      "INFO - 2021-03-18 15:36:12,377 - cyclomedia - Found 15 pointclouds for train\n"
     ]
    }
   ],
   "source": [
    "import open3d.ml.torch as ml3d\n",
    "\n",
    "# Use skip_empty=True to prevent loading .laz files with 0 points. This will crash the visualizer.\n",
    "dataset = ml3d.datasets.CycloMedia(dataset_path=data_folder, skip_empty=True)\n",
    "\n",
    "split = dataset.get_split('train')"
   ]
  },
  {
   "cell_type": "code",
   "execution_count": null,
   "id": "widespread-capitol",
   "metadata": {},
   "outputs": [],
   "source": [
    "# Print attributes and shape of each data file.\n",
    "for (idx, path) in enumerate(split.path_list):\n",
    "    print(split.get_attr(idx))\n",
    "    print(split.get_data(idx)['point'].shape)\n",
    "    print()"
   ]
  },
  {
   "cell_type": "code",
   "execution_count": 5,
   "id": "statewide-demonstration",
   "metadata": {},
   "outputs": [
    {
     "name": "stderr",
     "output_type": "stream",
     "text": [
      "INFO - 2021-03-18 15:36:26,986 - cyclomedia - Found 15 pointclouds for train\n"
     ]
    }
   ],
   "source": [
    "vis = ml3d.vis.Visualizer()\n",
    "\n",
    "# You can spcify a subset of the data to load. The visualizer will prevent loading more than 8GB of data anyway.\n",
    "vis.visualize_dataset(dataset, 'train', indices=range(0,10))"
   ]
  },
  {
   "cell_type": "code",
   "execution_count": null,
   "id": "complimentary-version",
   "metadata": {},
   "outputs": [],
   "source": []
  }
 ],
 "metadata": {
  "kernelspec": {
   "display_name": "Python 3",
   "language": "python",
   "name": "python3"
  },
  "language_info": {
   "codemirror_mode": {
    "name": "ipython",
    "version": 3
   },
   "file_extension": ".py",
   "mimetype": "text/x-python",
   "name": "python",
   "nbconvert_exporter": "python",
   "pygments_lexer": "ipython3",
   "version": "3.7.10"
  }
 },
 "nbformat": 4,
 "nbformat_minor": 5
}
